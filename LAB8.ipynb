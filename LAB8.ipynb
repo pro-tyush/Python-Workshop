{
 "cells": [
  {
   "cell_type": "markdown",
   "metadata": {},
   "source": [
    "#### 1.Write a Python program that create a class tringle and define two methods, create_triangle() and print_sides()."
   ]
  },
  {
   "cell_type": "code",
   "execution_count": 17,
   "metadata": {},
   "outputs": [
    {
     "name": "stdout",
     "output_type": "stream",
     "text": [
      "10 11 13\n"
     ]
    }
   ],
   "source": [
    "class Triangle:\n",
    "    def create_triangle(self,a,b,c):\n",
    "        self.a = a\n",
    "        self.b = b\n",
    "        self.c = c\n",
    "    \n",
    "    def print_sides(self):\n",
    "        print(self.a,self.b,self.c)\n",
    "\n",
    "t1 = Triangle()\n",
    "t1.create_triangle(10,11,13)\n",
    "t1.print_sides()\n",
    "\n",
    "    "
   ]
  },
  {
   "cell_type": "markdown",
   "metadata": {},
   "source": [
    "#### 2.Write a Python program to create a class with two methods get_String() and print_String()."
   ]
  },
  {
   "cell_type": "code",
   "execution_count": 21,
   "metadata": {},
   "outputs": [
    {
     "name": "stdout",
     "output_type": "stream",
     "text": [
      "Pratyush\n",
      "Pratyush\n"
     ]
    }
   ],
   "source": [
    "class Text:\n",
    "    def __init__(self,text):\n",
    "        self.text = text\n",
    "        \n",
    "    def get_string(self):\n",
    "        return self.text\n",
    "    \n",
    "    def print_string(self):\n",
    "        print(self.text)\n",
    "\n",
    "t1 = Text(\"Pratyush\")\n",
    "print(t1.get_string())\n",
    "t1.print_string()"
   ]
  },
  {
   "cell_type": "markdown",
   "metadata": {},
   "source": [
    "#### 3.Write a Python program to create a class Rectangle that takes the parameter length and width. The class should also contain a method for computing its perimeter."
   ]
  },
  {
   "cell_type": "code",
   "execution_count": 53,
   "metadata": {},
   "outputs": [
    {
     "name": "stdout",
     "output_type": "stream",
     "text": [
      "50\n"
     ]
    }
   ],
   "source": [
    "class Rectangle:\n",
    "    def __init__(self,length,width):\n",
    "        self.length = length\n",
    "        self.width  = width\n",
    "        \n",
    "    def perimeter(self):\n",
    "        return (self.length + self.width)*2\n",
    "\n",
    "r1 = Rectangle(10,15)\n",
    "print(r1.perimeter())\n",
    "\n",
    "        "
   ]
  },
  {
   "cell_type": "markdown",
   "metadata": {},
   "source": [
    "### 4.Write a Python program to create a class Circle that takes the parameter radius. The class should also contain two methods for computing its area & perimeter respectively. Use constructor to implement initialization of parameters"
   ]
  },
  {
   "cell_type": "code",
   "execution_count": 47,
   "metadata": {},
   "outputs": [
    {
     "name": "stdout",
     "output_type": "stream",
     "text": [
      "50.24\n",
      "25.12\n"
     ]
    }
   ],
   "source": [
    "class Circle():\n",
    "    def __init__(self, radius):\n",
    "        self.radius = radius\n",
    "\n",
    "    def area(self):\n",
    "        return self.radius**2*3.14\n",
    "    \n",
    "    def perimeter(self):\n",
    "        return 2*self.radius*3.14\n",
    "\n",
    "c1 = Circle(4)\n",
    "print(c1.area())\n",
    "print(c1.perimeter())"
   ]
  },
  {
   "cell_type": "markdown",
   "metadata": {},
   "source": [
    "### 5.Create a Circle class and initialize it with radius. Make two methods getArea and getCircumference inside this class."
   ]
  },
  {
   "cell_type": "code",
   "execution_count": 54,
   "metadata": {},
   "outputs": [
    {
     "name": "stdout",
     "output_type": "stream",
     "text": [
      "50.24\n",
      "25.12\n"
     ]
    }
   ],
   "source": [
    "class Circle():\n",
    "    radius = 4\n",
    "\n",
    "    def getArea(self):\n",
    "        return self.radius**2*3.14\n",
    "    \n",
    "    def getCircumference(self):\n",
    "        return 2*self.radius*3.14\n",
    "\n",
    "c1 = Circle()\n",
    "print(c1.getArea())\n",
    "print(c1.getCircumference())"
   ]
  },
  {
   "cell_type": "markdown",
   "metadata": {},
   "source": [
    "### 6.Create a Temperature class. Make two methods:\n",
    "### a)\tconvertFahrenheit - It will take Celsius and will print it into Fahrenheit.\n",
    "### b)\tconvertCelsius - It will take Fahrenheit and will convert it into Celsius.\n"
   ]
  },
  {
   "cell_type": "code",
   "execution_count": 89,
   "metadata": {},
   "outputs": [
    {
     "name": "stdout",
     "output_type": "stream",
     "text": [
      "Celsius to Fahrenheit: 249.8\n",
      "Fahrenheit to Celsius: -3.888888888888889\n"
     ]
    }
   ],
   "source": [
    "class Temperature:\n",
    "    def convertFahrenheit(self, cel):\n",
    "        fah = (cel* 1.8) + 32\n",
    "        return fah\n",
    "\n",
    "    def convertCelsius(self, fah):\n",
    "        cel = (fah - 32) * 5/9\n",
    "        return cel\n",
    "\n",
    "t = Temperature()\n",
    "print(\"Celsius to Fahrenheit: {}\".format(t.convertFahrenheit(121)))\n",
    "print(\"Fahrenheit to Celsius: {}\".format(t.convertCelsius(25)))\n",
    "\n",
    "\n",
    "    "
   ]
  },
  {
   "cell_type": "markdown",
   "metadata": {},
   "source": [
    "### Create a Student class and initialize it with name and roll number. Make methods to:\n",
    "### 1. Display - It should display all information’s of the student.\n",
    "### 2. setAge - It should assign age to student\n",
    "### 3. setMarks - It should assign marks to the student.\n"
   ]
  },
  {
   "cell_type": "code",
   "execution_count": 94,
   "metadata": {},
   "outputs": [
    {
     "name": "stdout",
     "output_type": "stream",
     "text": [
      "Name: Pratyush \n",
      "Roll no: 1102 \n",
      "Age: 20 \n",
      "Marks: 87\n"
     ]
    }
   ],
   "source": [
    "class Student:\n",
    "    name = ''\n",
    "    rno = 0\n",
    "    age = None\n",
    "    marks = None\n",
    "    \n",
    "    def __init__(self, name, rno):\n",
    "        self.name = name\n",
    "        self.rno = rno\n",
    "\n",
    "    def disp(self):\n",
    "        print(\"Name: {} \\nRoll no: {} \\nAge: {} \\nMarks: {}\".format(self.name, self.rno, self.age, self.marks))\n",
    "    \n",
    "    def setAge(self, age):\n",
    "        self.age = age\n",
    "\n",
    "    def setMarks(self, marks):\n",
    "        self.marks = marks\n",
    "\n",
    "s = Student(\"Pratyush\", 1102)\n",
    "s.setAge(20)\n",
    "s.setMarks(87)\n",
    "s.disp()\n",
    "        "
   ]
  },
  {
   "cell_type": "markdown",
   "metadata": {},
   "source": [
    "### 8.Write a Python class to reverse a string word by word."
   ]
  },
  {
   "cell_type": "code",
   "execution_count": 81,
   "metadata": {},
   "outputs": [
    {
     "name": "stdout",
     "output_type": "stream",
     "text": [
      "Pratyush\n"
     ]
    }
   ],
   "source": [
    "class Reverse:\n",
    "    def reverse_words(self, s):\n",
    "        return ' '.join(reversed(s.split()))\n",
    "\n",
    "\n",
    "print(Reverse().reverse_words(\"Pratyush\"))"
   ]
  }
 ],
 "metadata": {
  "kernelspec": {
   "display_name": "Python 3",
   "language": "python",
   "name": "python3"
  },
  "language_info": {
   "codemirror_mode": {
    "name": "ipython",
    "version": 3
   },
   "file_extension": ".py",
   "mimetype": "text/x-python",
   "name": "python",
   "nbconvert_exporter": "python",
   "pygments_lexer": "ipython3",
   "version": "3.8.5"
  }
 },
 "nbformat": 4,
 "nbformat_minor": 4
}
