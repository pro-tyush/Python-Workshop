{
 "cells": [
  {
   "cell_type": "markdown",
   "metadata": {},
   "source": [
    "###  1.Write a Python program that has a class Animal with a method legs(). Create two subclasses Tiger and Dog, access the method leg explicitly with class Dog and implicitly with the class Tiger. "
   ]
  },
  {
   "cell_type": "code",
   "execution_count": 6,
   "metadata": {},
   "outputs": [
    {
     "name": "stdout",
     "output_type": "stream",
     "text": [
      "Tiger has 4 legs\n",
      "Dog : 4 legs\n"
     ]
    }
   ],
   "source": [
    "class Animal:\n",
    "    def legs(self, name, legCount):\n",
    "        print(\"{} : {} legs\".format(name, legCount))\n",
    "\n",
    "class Tiger(Animal):\n",
    "    def legs(self, name, legCount):\n",
    "        print(\"{} has {} legs\".format(name, legCount))\n",
    "\n",
    "class Dog(Animal):\n",
    "    def legs(self, name, legCount):\n",
    "        super().legs(name, legCount)\n",
    "        \n",
    "d = Dog()\n",
    "t = Tiger()\n",
    "t.legs(\"Tiger\", 4)\n",
    "d.legs(\"Dog\", 4)        "
   ]
  },
  {
   "cell_type": "markdown",
   "metadata": {},
   "source": [
    "### 2.\tWrite a Python program to create a class Employee. Define two subclasses: Engineer and Manager. Every class should have method named printDesignation() that prints Engineer for Engineer class and Manager for Manager Class."
   ]
  },
  {
   "cell_type": "code",
   "execution_count": 34,
   "metadata": {},
   "outputs": [
    {
     "name": "stdout",
     "output_type": "stream",
     "text": [
      "Manager\n",
      "Engineer\n"
     ]
    }
   ],
   "source": [
    "class Employee:\n",
    "    def __init__(self, des):\n",
    "        self.des = des\n",
    "    def printDesignation(self):\n",
    "        print(self.des)\n",
    "\n",
    "class Manager(Employee):\n",
    "    def __init__(self):\n",
    "        super().__init__(\"Manager\")\n",
    "\n",
    "class Engineer(Employee):\n",
    "    def __init__(self):\n",
    "        super().__init__(\"Engineer\")\n",
    "        \n",
    "m = Manager()\n",
    "m.printDesignation()\n",
    "\n",
    "e = Engineer()\n",
    "e.printDesignation()\n"
   ]
  },
  {
   "cell_type": "markdown",
   "metadata": {},
   "source": [
    "### 3.Write a Python program to demonstrate classes and their attributes."
   ]
  },
  {
   "cell_type": "code",
   "execution_count": 36,
   "metadata": {},
   "outputs": [
    {
     "name": "stdout",
     "output_type": "stream",
     "text": [
      "Pratyush\n",
      "20\n"
     ]
    }
   ],
   "source": [
    "class Person:\n",
    "    name = \"Pratyush\"\n",
    "    age = 20\n",
    "\n",
    "p = Person()\n",
    "print(p.name)\n",
    "print(p.age)\n",
    "    "
   ]
  },
  {
   "cell_type": "markdown",
   "metadata": {},
   "source": [
    "### 4.\tWrite a Python program to demonstrate Inheritance and method overriding."
   ]
  },
  {
   "cell_type": "code",
   "execution_count": 38,
   "metadata": {},
   "outputs": [
    {
     "name": "stdout",
     "output_type": "stream",
     "text": [
      "I can breathe\n",
      "I crawl\n"
     ]
    }
   ],
   "source": [
    "class Animal:\n",
    "    def breathe(self):\n",
    "        print(\"I can breathe\")\n",
    "    def canWalk(self):\n",
    "        print(\"I can Walk\")\n",
    "\n",
    "class Snake(Animal):\n",
    "    def canWalk(self):\n",
    "        print(\"I crawl\")\n",
    "\n",
    "s = Snake()\n",
    "s.breathe()\n",
    "s.canWalk()"
   ]
  },
  {
   "cell_type": "markdown",
   "metadata": {},
   "source": [
    "### 5.Write a Python program to demonstrate multiple Inheritance."
   ]
  },
  {
   "cell_type": "code",
   "execution_count": 39,
   "metadata": {},
   "outputs": [
    {
     "name": "stdout",
     "output_type": "stream",
     "text": [
      "I can breathe\n",
      "I eat meat\n"
     ]
    }
   ],
   "source": [
    "class Animal:\n",
    "    def breathe(self):\n",
    "        print(\"I can breathe\")\n",
    "\n",
    "class Carnivore:\n",
    "    def eat(self):\n",
    "        print(\"I eat meat\")\n",
    "\n",
    "class Snake(Animal, Carnivore):\n",
    "    pass\n",
    "\n",
    "s = Snake()\n",
    "s.breathe()\n",
    "s.eat()\n"
   ]
  },
  {
   "cell_type": "code",
   "execution_count": null,
   "metadata": {},
   "outputs": [],
   "source": []
  }
 ],
 "metadata": {
  "kernelspec": {
   "display_name": "Python 3",
   "language": "python",
   "name": "python3"
  },
  "language_info": {
   "codemirror_mode": {
    "name": "ipython",
    "version": 3
   },
   "file_extension": ".py",
   "mimetype": "text/x-python",
   "name": "python",
   "nbconvert_exporter": "python",
   "pygments_lexer": "ipython3",
   "version": "3.8.5"
  }
 },
 "nbformat": 4,
 "nbformat_minor": 4
}
