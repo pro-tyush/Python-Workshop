{
 "cells": [
  {
   "cell_type": "markdown",
   "metadata": {},
   "source": [
    " 1. Check whether a number is even or odd."
   ]
  },
  {
   "cell_type": "code",
   "execution_count": 4,
   "metadata": {},
   "outputs": [
    {
     "name": "stdout",
     "output_type": "stream",
     "text": [
      "Enter a number: 98\n",
      "98 is even\n"
     ]
    }
   ],
   "source": [
    "num = int(input(\"Enter a number: \"))\n",
    "if(num == 0):\n",
    "    print(str(num) + \" is neither even nor odd\")\n",
    "elif(num % 2 == 0):\n",
    "    print(str(num) + \" is even\")\n",
    "else:\n",
    "    print(str(num) + \" is odd\")"
   ]
  },
  {
   "cell_type": "markdown",
   "metadata": {},
   "source": [
    "2. Check whether an entered year is leap year or no"
   ]
  },
  {
   "cell_type": "code",
   "execution_count": 2,
   "metadata": {},
   "outputs": [
    {
     "name": "stdout",
     "output_type": "stream",
     "text": [
      "Enter Year: 2024\n",
      "Leap Year\n"
     ]
    }
   ],
   "source": [
    "year = int(input(\"Enter Year: \"))\n",
    "if(year%4 == 0):\n",
    "    if(year%100):\n",
    "        if(year%400):\n",
    "            print(\"Leap Year\")\n",
    "        else:\n",
    "            print(\"Not Leap\")\n",
    "    else:\n",
    "        print(\"Leap Year\")\n",
    "else:\n",
    "    print(\"Not Leap\")"
   ]
  },
  {
   "cell_type": "code",
   "execution_count": 4,
   "metadata": {},
   "outputs": [
    {
     "name": "stdout",
     "output_type": "stream",
     "text": [
      "Enter Character: U\n",
      "U is a vowel\n"
     ]
    }
   ],
   "source": [
    "char = input(\"Enter Character: \")\n",
    "if(char == 'a' or char == 'e' or char == 'i' or char == 'o' or char == 'u'or \n",
    "   char == 'A' or char == 'E' or char == 'I' or char == 'O' or char == 'U'):\n",
    "    print(char + \" is a vowel\")\n",
    "else:\n",
    "    print(char + \" is a consonant\")\n"
   ]
  },
  {
   "cell_type": "markdown",
   "metadata": {},
   "source": [
    "4. Write a program to find the smallest of two numbers."
   ]
  },
  {
   "cell_type": "code",
   "execution_count": 5,
   "metadata": {},
   "outputs": [
    {
     "name": "stdout",
     "output_type": "stream",
     "text": [
      "Enter First Number: 13\n",
      "Enter Second Number: 17\n",
      "17\n"
     ]
    }
   ],
   "source": [
    "num1 = int(input(\"Enter First Number: \"))\n",
    "num2 = int(input(\"Enter Second Number: \"))\n",
    "if(num1 > num2):\n",
    "    print(num1)\n",
    "elif(num2 > num1):\n",
    "    print(num2)\n",
    "else:\n",
    "    print(\"Both are equal\")"
   ]
  },
  {
   "cell_type": "markdown",
   "metadata": {},
   "source": [
    "5. Find the Factorial of a Number"
   ]
  },
  {
   "cell_type": "code",
   "execution_count": 13,
   "metadata": {},
   "outputs": [
    {
     "name": "stdout",
     "output_type": "stream",
     "text": [
      "Enter a number: 4\n",
      "Factorial of 4 = 24\n"
     ]
    }
   ],
   "source": [
    "num = int(input(\"Enter a number: \"))\n",
    "if(num == 0):\n",
    "    print(1)\n",
    "else:\n",
    "    fact = 1;\n",
    "    for i in range(num,0,-1):\n",
    "        fact = fact * i\n",
    "    print(\"Factorial of \" + str(num) + \" = \" + str(fact)) \n"
   ]
  },
  {
   "cell_type": "markdown",
   "metadata": {},
   "source": [
    "6. Write a program to print this pattern"
   ]
  },
  {
   "cell_type": "code",
   "execution_count": 15,
   "metadata": {},
   "outputs": [
    {
     "name": "stdout",
     "output_type": "stream",
     "text": [
      "        * \n",
      "      * * * \n",
      "    * * * * * \n"
     ]
    }
   ],
   "source": [
    "for i in range(3):\n",
    "        for j in range(4-i):\n",
    "            print(' ', end=' ')\n",
    "        for k in range(2*i+1):\n",
    "            print('*',end=' ')\n",
    "        print()"
   ]
  },
  {
   "cell_type": "markdown",
   "metadata": {},
   "source": [
    "7. Write a program to print this series\n",
    "             1 1 2 3 5 8 13 "
   ]
  },
  {
   "cell_type": "code",
   "execution_count": 22,
   "metadata": {},
   "outputs": [
    {
     "name": "stdout",
     "output_type": "stream",
     "text": [
      "1 1 2 3 5 8 13 "
     ]
    }
   ],
   "source": [
    "first = 1\n",
    "second = 1\n",
    "print(first, second, end = \" \")\n",
    "for i in range(0,5):\n",
    "    cur = first + second\n",
    "    print(cur, end = \" \")\n",
    "    first = second\n",
    "    second = cur"
   ]
  },
  {
   "cell_type": "markdown",
   "metadata": {},
   "source": [
    "8. Check whether a number is prime or not"
   ]
  },
  {
   "cell_type": "code",
   "execution_count": 42,
   "metadata": {},
   "outputs": [
    {
     "name": "stdout",
     "output_type": "stream",
     "text": [
      "Enter a number: 99\n",
      "Not Prime\n"
     ]
    }
   ],
   "source": [
    "num = int(input(\"Enter a number: \"))\n",
    "for i in range(2, num):\n",
    "    if num % i == 0:\n",
    "        print(\"Not Prime\")\n",
    "        break\n",
    "else:\n",
    "    print(\"Prime\")"
   ]
  },
  {
   "cell_type": "markdown",
   "metadata": {},
   "source": [
    "9. Make a Simple Calculator"
   ]
  },
  {
   "cell_type": "code",
   "execution_count": 48,
   "metadata": {},
   "outputs": [
    {
     "name": "stdout",
     "output_type": "stream",
     "text": [
      "Enter first number: 5.1\n",
      "Enter Operation(+,-,/,*): /\n",
      "Enter second number: 3.2\n",
      "1.5937499999999998\n"
     ]
    }
   ],
   "source": [
    "a = float(input(\"Enter first number: \"))\n",
    "op = input(\"Enter Operation(+,-,/,*): \")\n",
    "b = float(input(\"Enter second number: \"))\n",
    "\n",
    "if(op == '+'):\n",
    "    print(a+b)\n",
    "elif(op == '-'):\n",
    "    print(a-b)\n",
    "elif(op =='*'):\n",
    "    print(a*b)\n",
    "elif (op == '/'):\n",
    "    print(a/b)\n",
    "else:\n",
    "    print(\"Invalid Statement\")\n",
    "\n",
    "    \n"
   ]
  },
  {
   "cell_type": "code",
   "execution_count": null,
   "metadata": {},
   "outputs": [],
   "source": []
  }
 ],
 "metadata": {
  "kernelspec": {
   "display_name": "Python 3",
   "language": "python",
   "name": "python3"
  },
  "language_info": {
   "codemirror_mode": {
    "name": "ipython",
    "version": 3
   },
   "file_extension": ".py",
   "mimetype": "text/x-python",
   "name": "python",
   "nbconvert_exporter": "python",
   "pygments_lexer": "ipython3",
   "version": "3.8.5"
  }
 },
 "nbformat": 4,
 "nbformat_minor": 4
}
