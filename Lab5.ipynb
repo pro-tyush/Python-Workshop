{
 "cells": [
  {
   "cell_type": "markdown",
   "metadata": {},
   "source": [
    "1. Write a Python program to sum all the items in a list. "
   ]
  },
  {
   "cell_type": "code",
   "execution_count": 1,
   "metadata": {},
   "outputs": [
    {
     "name": "stdout",
     "output_type": "stream",
     "text": [
      "81\n"
     ]
    }
   ],
   "source": [
    "thislist=[11,12,13,14,15,16]\n",
    "sum=0\n",
    "for i in thislist:\n",
    "    sum=sum+i   \n",
    "print(sum)"
   ]
  },
  {
   "cell_type": "markdown",
   "metadata": {},
   "source": [
    "2. Write a Python program to multiplies all the items in a list.  "
   ]
  },
  {
   "cell_type": "code",
   "execution_count": 3,
   "metadata": {},
   "outputs": [
    {
     "name": "stdout",
     "output_type": "stream",
     "text": [
      "5765760\n"
     ]
    }
   ],
   "source": [
    "thislist=[11,12,13,14,15,16]\n",
    "multiply=1\n",
    "for i in thislist:\n",
    "    multiply=multiply*i\n",
    "    \n",
    "print(multiply)"
   ]
  },
  {
   "cell_type": "markdown",
   "metadata": {},
   "source": [
    "3. Write a Python program to get the largest number from a list"
   ]
  },
  {
   "cell_type": "code",
   "execution_count": 4,
   "metadata": {},
   "outputs": [
    {
     "name": "stdout",
     "output_type": "stream",
     "text": [
      "444\n"
     ]
    }
   ],
   "source": [
    "thislist=[99,12,5,44,444]\n",
    "largest=thislist[0]\n",
    "for i in range(1,len(thislist)):\n",
    "    if(thislist[i]>largest):\n",
    "        largest=thislist[i]\n",
    "    \n",
    "print(largest)"
   ]
  },
  {
   "cell_type": "markdown",
   "metadata": {},
   "source": [
    "4. Write a Python program to get the smallest number from list. "
   ]
  },
  {
   "cell_type": "code",
   "execution_count": 5,
   "metadata": {},
   "outputs": [
    {
     "name": "stdout",
     "output_type": "stream",
     "text": [
      "-54\n"
     ]
    }
   ],
   "source": [
    "thislist=[-2,11,-54,99,69]\n",
    "smallest=thislist[0]\n",
    "for i in range(1,len(thislist)):\n",
    "    if(thislist[i]<smallest):\n",
    "        smallest=thislist[i]\n",
    "    \n",
    "print(smallest)"
   ]
  },
  {
   "cell_type": "markdown",
   "metadata": {},
   "source": [
    "5. Write a Python program to count the number of strings where the string length is 2 or more and the first and last character are same from a given list of strings \n",
    "Sample List : ['abc', 'xyz', 'aba', '1221']. Expected Result : 2\n"
   ]
  },
  {
   "cell_type": "code",
   "execution_count": 6,
   "metadata": {},
   "outputs": [
    {
     "name": "stdout",
     "output_type": "stream",
     "text": [
      "1\n"
     ]
    }
   ],
   "source": [
    "words=[\"pra\",\"tyu\",\"sh\",\"1221\"]\n",
    "count=0\n",
    "for i in words:\n",
    "    if(len(i)>=2 and i[0]==i[len(i)-1]):\n",
    "        count=count+1\n",
    "        \n",
    "print(count)"
   ]
  },
  {
   "cell_type": "markdown",
   "metadata": {},
   "source": [
    "6. Write a Python program to get a list, sorted in increasing order by the last element in each tuple from a given list of non-empty tuples.  \n",
    "Sample List : [(2, 5), (1, 2), (4, 4), (2, 3), (2, 1)]\n",
    "Expected Result : [(2, 1), (1, 2), (2, 3), (4, 4), (2, 5)]\n"
   ]
  },
  {
   "cell_type": "code",
   "execution_count": 7,
   "metadata": {},
   "outputs": [
    {
     "name": "stdout",
     "output_type": "stream",
     "text": [
      "[(2, 1), (1, 2), (2, 3), (4, 4), (2, 5)]\n"
     ]
    }
   ],
   "source": [
    "def last(n): return n[1]\n",
    "\n",
    "def sort_list_last(tuples):\n",
    "  return sorted(tuples, key=last)\n",
    "\n",
    "print(sort_list_last([(2, 5), (1, 2), (4, 4), (2, 3), (2, 1)]))"
   ]
  },
  {
   "cell_type": "markdown",
   "metadata": {},
   "source": [
    "7. Write a Python program to remove duplicates from a list. "
   ]
  },
  {
   "cell_type": "code",
   "execution_count": 8,
   "metadata": {},
   "outputs": [
    {
     "name": "stdout",
     "output_type": "stream",
     "text": [
      "[101, 220, 232, 120, 22]\n"
     ]
    }
   ],
   "source": [
    "a=[101,220,232,120,22,22]\n",
    "uniqueItems=[]\n",
    "for i in a:\n",
    "    if i not in uniqueItems:\n",
    "        uniqueItems.append(i)\n",
    "        \n",
    "print(uniqueItems)"
   ]
  },
  {
   "cell_type": "markdown",
   "metadata": {},
   "source": [
    "8. Write a Python program to check a list is empty or not. "
   ]
  },
  {
   "cell_type": "code",
   "execution_count": 9,
   "metadata": {},
   "outputs": [
    {
     "name": "stdout",
     "output_type": "stream",
     "text": [
      "List is Empty\n"
     ]
    }
   ],
   "source": [
    "a=[]\n",
    "if len(a)==0:\n",
    "    print(\"List is Empty\")\n",
    "else:\n",
    "    print(\"List is not empty\")"
   ]
  },
  {
   "cell_type": "markdown",
   "metadata": {},
   "source": [
    "9. Write a Python program to clone or copy a list. "
   ]
  },
  {
   "cell_type": "code",
   "execution_count": 10,
   "metadata": {},
   "outputs": [
    {
     "name": "stdout",
     "output_type": "stream",
     "text": [
      "[1, 2, 22, 16, 29, 44]\n"
     ]
    }
   ],
   "source": [
    "a=[1,2,22,16,29,44]\n",
    "b=a.copy();\n",
    "print(b)"
   ]
  },
  {
   "cell_type": "markdown",
   "metadata": {},
   "source": [
    "10. Write a Python program to find the list of words that are longer than n from a given list of words."
   ]
  },
  {
   "cell_type": "code",
   "execution_count": 11,
   "metadata": {},
   "outputs": [
    {
     "name": "stdout",
     "output_type": "stream",
     "text": [
      "Enter the length 5\n",
      "banana\n",
      "pratyush\n",
      "sharma\n"
     ]
    }
   ],
   "source": [
    "n=int(input(\"Enter the length \"))\n",
    "a=[\"apple\",\"banana\",\"pratyush\",\"sharma\"]\n",
    "for i in a:\n",
    "    if len(i)>n:\n",
    "        print(i)"
   ]
  },
  {
   "cell_type": "markdown",
   "metadata": {},
   "source": [
    " 11. Write a Python function that takes two lists and returns True if they have at least one common member.  "
   ]
  },
  {
   "cell_type": "code",
   "execution_count": 12,
   "metadata": {},
   "outputs": [
    {
     "name": "stdout",
     "output_type": "stream",
     "text": [
      "True\n"
     ]
    }
   ],
   "source": [
    "def check_common(a,b):\n",
    "    setA=set(a)\n",
    "    setB=set(b)\n",
    "    setA.intersection_update(setB)\n",
    "    if(len(setA)>0):\n",
    "        return True\n",
    "    else:\n",
    "        return False\n",
    "    \n",
    "a=[\"apple\",\"banana\",\"pineapple\",\"strawberry\"]\n",
    "b=[\"apple\",\"banana\",\"orange\",\"Kiwi\"]\n",
    "print(check_common(a,b))\n",
    "\n",
    "    "
   ]
  },
  {
   "cell_type": "markdown",
   "metadata": {},
   "source": [
    "12. Write a Python program to print a specified list after removing the 0th, 4th and 5th elements.  \n",
    "Sample List : ['Red', 'Green', 'White', 'Black', 'Pink', 'Yellow']\n",
    "Expected Output : ['Green', 'White', 'Black']"
   ]
  },
  {
   "cell_type": "code",
   "execution_count": 13,
   "metadata": {},
   "outputs": [
    {
     "name": "stdout",
     "output_type": "stream",
     "text": [
      "['banana', 'pineapple', 'strawberry']\n"
     ]
    }
   ],
   "source": [
    "a=[\"apple\",\"banana\",\"pineapple\",\"strawberry\",\"guava\",\"kiwi\"]\n",
    "newA=[]\n",
    "for i in range(0,len(a)):\n",
    "    if i not in (0,4,5):\n",
    "        newA.append(a[i])\n",
    "        \n",
    "print(newA)"
   ]
  }
 ],
 "metadata": {
  "kernelspec": {
   "display_name": "Python 3",
   "language": "python",
   "name": "python3"
  },
  "language_info": {
   "codemirror_mode": {
    "name": "ipython",
    "version": 3
   },
   "file_extension": ".py",
   "mimetype": "text/x-python",
   "name": "python",
   "nbconvert_exporter": "python",
   "pygments_lexer": "ipython3",
   "version": "3.8.5"
  }
 },
 "nbformat": 4,
 "nbformat_minor": 4
}
